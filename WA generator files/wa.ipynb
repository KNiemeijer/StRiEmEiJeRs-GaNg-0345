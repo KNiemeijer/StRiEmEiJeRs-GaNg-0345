{
 "cells": [
  {
   "cell_type": "code",
   "execution_count": null,
   "metadata": {},
   "outputs": [],
   "source": [
    "from textgenrnn import textgenrnn\n",
    "from datetime import datetime\n",
    "import os"
   ]
  },
  {
   "cell_type": "code",
   "execution_count": null,
   "metadata": {},
   "outputs": [],
   "source": [
    "model_cfg = {\n",
    "    'word_level': False,   # set to True if want to train a word-level model (requires more data and smaller max_length)\n",
    "    'rnn_size': 128,   # number of LSTM cells of each layer (128/256 recommended)\n",
    "    'rnn_layers': 4,   # number of LSTM layers (>=2 recommended)\n",
    "    'rnn_bidirectional': True,   # consider text both forwards and backward, can give a training boost\n",
    "    'max_length': 50,   # number of tokens to consider before predicting the next (20-40 for characters, 5-10 for words recommended)\n",
    "    'max_words': 10000,   # maximum number of words to model; the rest will be ignored (word-level model only)\n",
    "}\n",
    "\n",
    "train_cfg = {\n",
    "    'line_delimited': True,   # set to True if each text has its own line in the source file\n",
    "    'num_epochs': 20,   # set higher to train the model for longer\n",
    "    'gen_epochs': 5,   # generates sample text from model after given number of epochs\n",
    "    'train_size': 0.8,   # proportion of input data to train on: setting < 1.0 limits model from learning perfectly\n",
    "    'dropout': 0.0,   # ignore a random proportion of source tokens each epoch, allowing model to generalize better\n",
    "    'validation': False,   # If train__size < 1.0, test on holdout dataset; will make overall training slower\n",
    "    'is_csv': False   # set to True if file is a CSV exported from Excel/BigQuery/pandas\n",
    "}"
   ]
  },
  {
   "cell_type": "code",
   "execution_count": null,
   "metadata": {},
   "outputs": [],
   "source": [
    "file_name = \"wa2.txt\"\n",
    "model_name = 'WA'   # change to set file name of resulting trained models/texts"
   ]
  },
  {
   "cell_type": "code",
   "execution_count": null,
   "metadata": {},
   "outputs": [],
   "source": [
    "# Code for importing model from files\n",
    "textgen = textgenrnn(weights_path='WA_weights.hdf5',\n",
    "                       vocab_path='WA_vocab.json',\n",
    "                       config_path='WA_config.json')"
   ]
  },
  {
   "cell_type": "code",
   "execution_count": null,
   "metadata": {
    "scrolled": true
   },
   "outputs": [],
   "source": [
    "textgen = textgenrnn(name=model_name)\n",
    "\n",
    "train_function = textgen.train_from_file if train_cfg['line_delimited'] else textgen.train_from_largetext_file\n",
    "\n",
    "train_function(\n",
    "    file_path=file_name,\n",
    "    new_model=True,\n",
    "    num_epochs=train_cfg['num_epochs'],\n",
    "    gen_epochs=train_cfg['gen_epochs'],\n",
    "    batch_size=1024,\n",
    "    train_size=train_cfg['train_size'],\n",
    "    dropout=train_cfg['dropout'],\n",
    "    validation=train_cfg['validation'],\n",
    "    is_csv=train_cfg['is_csv'],\n",
    "    rnn_layers=model_cfg['rnn_layers'],\n",
    "    rnn_size=model_cfg['rnn_size'],\n",
    "    rnn_bidirectional=model_cfg['rnn_bidirectional'],\n",
    "    max_length=model_cfg['max_length'],\n",
    "    dim_embeddings=100,\n",
    "    word_level=model_cfg['word_level'])"
   ]
  },
  {
   "cell_type": "code",
   "execution_count": null,
   "metadata": {
    "scrolled": true
   },
   "outputs": [],
   "source": [
    "textgen.generate_samples(temperatures=[0.2, 0.5, 1.0, 1.2, 1.5])"
   ]
  },
  {
   "cell_type": "code",
   "execution_count": null,
   "metadata": {},
   "outputs": [],
   "source": [
    "# this temperature schedule cycles between 1 very unexpected token, 1 unexpected token, 2 expected tokens, repeat.\n",
    "# changing the temperature schedule can result in wildly different output!\n",
    "temperature = [1.0, 0.5, 0.2, 0.2]   \n",
    "prefix_list = [\n",
    "    \"Koen Niemeijer\",\n",
    "    \"Kevin Algera\",\n",
    "    \"Willem Smits\",\n",
    "    \"Gijs Cunnen\",\n",
    "    \"Thijs van der Putten\",\n",
    "    \"Wescel Manders\",\n",
    "    \"Thomas Bardoel\",\n",
    "    \"Michiel Arts\",\n",
    "    \"Yoram Carboex\"\n",
    "]\n",
    "\n",
    "if train_cfg['line_delimited']:\n",
    "  n = 1000\n",
    "  max_gen_length = 60 if model_cfg['word_level'] else 300\n",
    "else:\n",
    "  n = 1\n",
    "  max_gen_length = 2000 if model_cfg['word_level'] else 10000\n",
    "\n",
    "# Generate for everyone\n",
    "gen_file = '{}_gentext_{}.txt'.format(model_name, \"\")\n",
    "textgen.generate_to_file(gen_file,\n",
    "                         temperature=temperature,\n",
    "                         prefix=\"\",\n",
    "                         n=3000,\n",
    "                         max_gen_length=max_gen_length)\n",
    "\n",
    "# Generate for rest\n",
    "for prefix in prefix_list:\n",
    "    gen_file = '{}_gentext_{}.txt'.format(model_name, prefix)\n",
    "    textgen.generate_to_file(gen_file,\n",
    "                         temperature=temperature,\n",
    "                         prefix=prefix,\n",
    "                         n=n,\n",
    "                         max_gen_length=max_gen_length)\n",
    "\n"
   ]
  }
 ],
 "metadata": {
  "kernelspec": {
   "display_name": "Python 3",
   "language": "python",
   "name": "python3"
  },
  "language_info": {
   "codemirror_mode": {
    "name": "ipython",
    "version": 3
   },
   "file_extension": ".py",
   "mimetype": "text/x-python",
   "name": "python",
   "nbconvert_exporter": "python",
   "pygments_lexer": "ipython3",
   "version": "3.6.8"
  }
 },
 "nbformat": 4,
 "nbformat_minor": 2
}
